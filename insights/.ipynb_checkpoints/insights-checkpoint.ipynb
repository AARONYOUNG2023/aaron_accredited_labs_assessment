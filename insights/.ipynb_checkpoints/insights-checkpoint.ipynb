{
 "cells": [
  {
   "cell_type": "markdown",
   "id": "77ade4df29b884ef",
   "metadata": {},
   "source": [
    "# Insights"
   ]
  },
  {
   "cell_type": "markdown",
   "id": "41950eee-a47b-44b9-8644-c57f2a00387f",
   "metadata": {
    "collapsed": true,
    "jupyter": {
     "outputs_hidden": true
    }
   },
   "source": [
    "In this notebook, we'll explore the data from our `calibration_data.db` database.\n",
    "We'll load data from the `invoices`, `failed_qc`, `workorders`, and `test_points` tables,\n",
    "then generate some basic summaries and visualizations."
   ]
  },
  {
   "cell_type": "markdown",
   "id": "6e9fae1d-e08e-4913-a5c9-469019e02fb2",
   "metadata": {},
   "source": [
    "## 1. Code - Imports & Paths"
   ]
  },
  {
   "cell_type": "code",
   "execution_count": 2,
   "id": "46e19895a30ded94",
   "metadata": {
    "ExecuteTime": {
     "end_time": "2025-04-23T16:32:31.662398Z",
     "start_time": "2025-04-23T16:32:30.888506Z"
    }
   },
   "outputs": [
    {
     "name": "stdout",
     "output_type": "stream",
     "text": [
      "Notebook started. DB path: ../db/calibration_data.db\n"
     ]
    }
   ],
   "source": [
    "import os\n",
    "import sqlite3\n",
    "import pandas as pd\n",
    "import matplotlib.pyplot as plt\n",
    "\n",
    "# So plots show inline in Jupyter\n",
    "%matplotlib inline\n",
    "\n",
    "# Path to the database\n",
    "DB_PATH = \"../db/calibration_data.db\"\n",
    "\n",
    "print(\"Notebook started. DB path:\", DB_PATH)"
   ]
  },
  {
   "cell_type": "markdown",
   "id": "e14c9bce-81fe-4331-a006-4695618410ad",
   "metadata": {},
   "source": [
    "## 2. Connect to SQLite DB"
   ]
  },
  {
   "cell_type": "markdown",
   "id": "cc128a7e-2c63-4253-98d9-90522a30fefe",
   "metadata": {},
   "source": [
    "We'll create a connection to our `calibration_data.db` so we can query tables into Pandas."
   ]
  },
  {
   "cell_type": "code",
   "execution_count": 3,
   "id": "de2ba30048bd7519",
   "metadata": {},
   "outputs": [
    {
     "name": "stdout",
     "output_type": "stream",
     "text": [
      "Connected to SQLite database: ../db/calibration_data.db\n"
     ]
    }
   ],
   "source": [
    "conn = sqlite3.connect(DB_PATH)\n",
    "print(\"Connected to SQLite database:\", DB_PATH)"
   ]
  },
  {
   "cell_type": "markdown",
   "id": "a5e0c77a-6efb-4eef-a530-fe46c1ff8088",
   "metadata": {},
   "source": [
    "## 3. Load DataFrames"
   ]
  },
  {
   "cell_type": "code",
   "execution_count": 4,
   "id": "1861f5d1130d8169",
   "metadata": {},
   "outputs": [
    {
     "name": "stdout",
     "output_type": "stream",
     "text": [
      "Invoices shape: (1532, 11)\n",
      "Failed QC shape: (452, 9)\n",
      "Workorders shape: (1984, 7)\n",
      "Test_points shape: (1984, 3)\n"
     ]
    }
   ],
   "source": [
    "df_invoices   = pd.read_sql_query(\"SELECT * FROM invoices\", conn)\n",
    "df_failed     = pd.read_sql_query(\"SELECT * FROM failed_qc\", conn)\n",
    "df_workorders = pd.read_sql_query(\"SELECT * FROM workorders\", conn)\n",
    "df_testpoints = pd.read_sql_query(\"SELECT * FROM test_points\", conn)\n",
    "\n",
    "print(\"Invoices shape:\", df_invoices.shape)\n",
    "print(\"Failed QC shape:\", df_failed.shape)\n",
    "print(\"Workorders shape:\", df_workorders.shape)\n",
    "print(\"Test_points shape:\", df_testpoints.shape)"
   ]
  },
  {
   "cell_type": "markdown",
   "id": "b92c4d02-8556-4f5a-83e0-68b64bff04ba",
   "metadata": {},
   "source": [
    "Here, we can display the first few rows of each table and do some basic descriptive statistics to get an overview."
   ]
  },
  {
   "cell_type": "code",
   "execution_count": 8,
   "id": "1325eba107d7562f",
   "metadata": {},
   "outputs": [
    {
     "data": {
      "text/html": [
       "<div>\n",
       "<style scoped>\n",
       "    .dataframe tbody tr th:only-of-type {\n",
       "        vertical-align: middle;\n",
       "    }\n",
       "\n",
       "    .dataframe tbody tr th {\n",
       "        vertical-align: top;\n",
       "    }\n",
       "\n",
       "    .dataframe thead th {\n",
       "        text-align: right;\n",
       "    }\n",
       "</style>\n",
       "<table border=\"1\" class=\"dataframe\">\n",
       "  <thead>\n",
       "    <tr style=\"text-align: right;\">\n",
       "      <th></th>\n",
       "      <th>invoice_id</th>\n",
       "      <th>work_completion_date</th>\n",
       "      <th>work_order_number</th>\n",
       "      <th>branch</th>\n",
       "      <th>accreditation_type</th>\n",
       "      <th>equipment_id</th>\n",
       "      <th>equipment_type</th>\n",
       "      <th>price</th>\n",
       "      <th>customer_id</th>\n",
       "      <th>customer_name</th>\n",
       "      <th>customer_email</th>\n",
       "    </tr>\n",
       "  </thead>\n",
       "  <tbody>\n",
       "    <tr>\n",
       "      <th>1015</th>\n",
       "      <td>1016</td>\n",
       "      <td>2024-10-14</td>\n",
       "      <td>Ne-WO-00070</td>\n",
       "      <td>New_York</td>\n",
       "      <td>no</td>\n",
       "      <td>Ne-EQ-00070-2</td>\n",
       "      <td>caliper</td>\n",
       "      <td>100.0</td>\n",
       "      <td>CUST0054</td>\n",
       "      <td>Brown and Sons</td>\n",
       "      <td>sanchezangelica@graham.biz</td>\n",
       "    </tr>\n",
       "    <tr>\n",
       "      <th>343</th>\n",
       "      <td>344</td>\n",
       "      <td>2024-11-17</td>\n",
       "      <td>Ho-WO-00013</td>\n",
       "      <td>Houston</td>\n",
       "      <td>no</td>\n",
       "      <td>Ho-EQ-00013-0</td>\n",
       "      <td>pressure_gauge</td>\n",
       "      <td>199.0</td>\n",
       "      <td>CUST0039</td>\n",
       "      <td>Thomas LLC</td>\n",
       "      <td>zcarroll@holmes-collier.com</td>\n",
       "    </tr>\n",
       "    <tr>\n",
       "      <th>1165</th>\n",
       "      <td>1166</td>\n",
       "      <td>2025-03-16</td>\n",
       "      <td>Ne-WO-00168</td>\n",
       "      <td>New_York</td>\n",
       "      <td>yes</td>\n",
       "      <td>Ne-EQ-00168-0</td>\n",
       "      <td>scale</td>\n",
       "      <td>146.9</td>\n",
       "      <td>CUST0043</td>\n",
       "      <td>Rodriguez-Summers</td>\n",
       "      <td>paul64@thompson-gonzalez.org</td>\n",
       "    </tr>\n",
       "    <tr>\n",
       "      <th>10</th>\n",
       "      <td>11</td>\n",
       "      <td>2024-11-20</td>\n",
       "      <td>Ch-WO-00007</td>\n",
       "      <td>Chicago</td>\n",
       "      <td>yes</td>\n",
       "      <td>Ch-EQ-00007-2</td>\n",
       "      <td>scale</td>\n",
       "      <td>313.3</td>\n",
       "      <td>CUST0049</td>\n",
       "      <td>Grant and Sons</td>\n",
       "      <td>watsonashley@clark-holder.biz</td>\n",
       "    </tr>\n",
       "    <tr>\n",
       "      <th>869</th>\n",
       "      <td>870</td>\n",
       "      <td>2024-07-20</td>\n",
       "      <td>Lo-WO-00175</td>\n",
       "      <td>Los_Angeles</td>\n",
       "      <td>no</td>\n",
       "      <td>Lo-EQ-00175-0</td>\n",
       "      <td>torque</td>\n",
       "      <td>231.0</td>\n",
       "      <td>CUST0054</td>\n",
       "      <td>Brown and Sons</td>\n",
       "      <td>sanchezangelica@graham.biz</td>\n",
       "    </tr>\n",
       "  </tbody>\n",
       "</table>\n",
       "</div>"
      ],
      "text/plain": [
       "      invoice_id work_completion_date work_order_number       branch  \\\n",
       "1015        1016           2024-10-14       Ne-WO-00070     New_York   \n",
       "343          344           2024-11-17       Ho-WO-00013      Houston   \n",
       "1165        1166           2025-03-16       Ne-WO-00168     New_York   \n",
       "10            11           2024-11-20       Ch-WO-00007      Chicago   \n",
       "869          870           2024-07-20       Lo-WO-00175  Los_Angeles   \n",
       "\n",
       "     accreditation_type   equipment_id  equipment_type  price customer_id  \\\n",
       "1015                 no  Ne-EQ-00070-2         caliper  100.0    CUST0054   \n",
       "343                  no  Ho-EQ-00013-0  pressure_gauge  199.0    CUST0039   \n",
       "1165                yes  Ne-EQ-00168-0           scale  146.9    CUST0043   \n",
       "10                  yes  Ch-EQ-00007-2           scale  313.3    CUST0049   \n",
       "869                  no  Lo-EQ-00175-0          torque  231.0    CUST0054   \n",
       "\n",
       "          customer_name                 customer_email  \n",
       "1015     Brown and Sons     sanchezangelica@graham.biz  \n",
       "343          Thomas LLC    zcarroll@holmes-collier.com  \n",
       "1165  Rodriguez-Summers   paul64@thompson-gonzalez.org  \n",
       "10       Grant and Sons  watsonashley@clark-holder.biz  \n",
       "869      Brown and Sons     sanchezangelica@graham.biz  "
      ]
     },
     "metadata": {},
     "output_type": "display_data"
    }
   ],
   "source": [
    "display(df_invoices.sample(5))"
   ]
  },
  {
   "cell_type": "code",
   "execution_count": 9,
   "id": "de6ee4a336d5a1cc",
   "metadata": {},
   "outputs": [
    {
     "data": {
      "text/html": [
       "<div>\n",
       "<style scoped>\n",
       "    .dataframe tbody tr th:only-of-type {\n",
       "        vertical-align: middle;\n",
       "    }\n",
       "\n",
       "    .dataframe tbody tr th {\n",
       "        vertical-align: top;\n",
       "    }\n",
       "\n",
       "    .dataframe thead th {\n",
       "        text-align: right;\n",
       "    }\n",
       "</style>\n",
       "<table border=\"1\" class=\"dataframe\">\n",
       "  <thead>\n",
       "    <tr style=\"text-align: right;\">\n",
       "      <th></th>\n",
       "      <th>id</th>\n",
       "      <th>workorder_id</th>\n",
       "      <th>equipment_id</th>\n",
       "      <th>equipment_type</th>\n",
       "      <th>branch</th>\n",
       "      <th>customer_name</th>\n",
       "      <th>accredited</th>\n",
       "      <th>technician</th>\n",
       "      <th>failed_reasons</th>\n",
       "    </tr>\n",
       "  </thead>\n",
       "  <tbody>\n",
       "    <tr>\n",
       "      <th>422</th>\n",
       "      <td>423</td>\n",
       "      <td>Ph-WO-00123</td>\n",
       "      <td>Ph-EQ-00123-0</td>\n",
       "      <td>caliper</td>\n",
       "      <td>Phoenix</td>\n",
       "      <td>Garner-Rose</td>\n",
       "      <td>yes</td>\n",
       "      <td>Stephanie Cooper</td>\n",
       "      <td>missing_completed_date</td>\n",
       "    </tr>\n",
       "    <tr>\n",
       "      <th>64</th>\n",
       "      <td>65</td>\n",
       "      <td>Ch-WO-00135</td>\n",
       "      <td>Ch-EQ-00135-0</td>\n",
       "      <td>pressure_gauge</td>\n",
       "      <td>Chicago</td>\n",
       "      <td>Arnold-Peters</td>\n",
       "      <td>yes</td>\n",
       "      <td>Laura Owens</td>\n",
       "      <td>tech_not_certified</td>\n",
       "    </tr>\n",
       "    <tr>\n",
       "      <th>382</th>\n",
       "      <td>383</td>\n",
       "      <td>Ph-WO-00025</td>\n",
       "      <td>Ph-EQ-00025-1</td>\n",
       "      <td>flow_meter</td>\n",
       "      <td>Phoenix</td>\n",
       "      <td>Mills Inc</td>\n",
       "      <td>no</td>\n",
       "      <td>Stephanie Cooper</td>\n",
       "      <td>tech_not_certified</td>\n",
       "    </tr>\n",
       "    <tr>\n",
       "      <th>56</th>\n",
       "      <td>57</td>\n",
       "      <td>Ch-WO-00110</td>\n",
       "      <td>Ch-EQ-00110-2</td>\n",
       "      <td>pressure_gauge</td>\n",
       "      <td>Chicago</td>\n",
       "      <td>Clark-Greer</td>\n",
       "      <td>yes</td>\n",
       "      <td>Traci Larson</td>\n",
       "      <td>tech_not_certified</td>\n",
       "    </tr>\n",
       "    <tr>\n",
       "      <th>428</th>\n",
       "      <td>429</td>\n",
       "      <td>Ph-WO-00143</td>\n",
       "      <td>Ph-EQ-00143-0</td>\n",
       "      <td>thermometer</td>\n",
       "      <td>Phoenix</td>\n",
       "      <td>Mann PLC</td>\n",
       "      <td>yes</td>\n",
       "      <td>Carol Rasmussen</td>\n",
       "      <td>tech_not_certified</td>\n",
       "    </tr>\n",
       "  </tbody>\n",
       "</table>\n",
       "</div>"
      ],
      "text/plain": [
       "      id workorder_id   equipment_id  equipment_type   branch  customer_name  \\\n",
       "422  423  Ph-WO-00123  Ph-EQ-00123-0         caliper  Phoenix    Garner-Rose   \n",
       "64    65  Ch-WO-00135  Ch-EQ-00135-0  pressure_gauge  Chicago  Arnold-Peters   \n",
       "382  383  Ph-WO-00025  Ph-EQ-00025-1      flow_meter  Phoenix      Mills Inc   \n",
       "56    57  Ch-WO-00110  Ch-EQ-00110-2  pressure_gauge  Chicago    Clark-Greer   \n",
       "428  429  Ph-WO-00143  Ph-EQ-00143-0     thermometer  Phoenix       Mann PLC   \n",
       "\n",
       "    accredited        technician          failed_reasons  \n",
       "422        yes  Stephanie Cooper  missing_completed_date  \n",
       "64         yes       Laura Owens      tech_not_certified  \n",
       "382         no  Stephanie Cooper      tech_not_certified  \n",
       "56         yes      Traci Larson      tech_not_certified  \n",
       "428        yes   Carol Rasmussen      tech_not_certified  "
      ]
     },
     "metadata": {},
     "output_type": "display_data"
    }
   ],
   "source": [
    "display(df_failed.sample(5))"
   ]
  },
  {
   "cell_type": "code",
   "execution_count": 10,
   "id": "947b8aab-2c95-45c3-a75b-9d9d2227a0ff",
   "metadata": {},
   "outputs": [
    {
     "data": {
      "text/html": [
       "<div>\n",
       "<style scoped>\n",
       "    .dataframe tbody tr th:only-of-type {\n",
       "        vertical-align: middle;\n",
       "    }\n",
       "\n",
       "    .dataframe tbody tr th {\n",
       "        vertical-align: top;\n",
       "    }\n",
       "\n",
       "    .dataframe thead th {\n",
       "        text-align: right;\n",
       "    }\n",
       "</style>\n",
       "<table border=\"1\" class=\"dataframe\">\n",
       "  <thead>\n",
       "    <tr style=\"text-align: right;\">\n",
       "      <th></th>\n",
       "      <th>workorder_id</th>\n",
       "      <th>equipment_id</th>\n",
       "      <th>equipment_type</th>\n",
       "      <th>branch</th>\n",
       "      <th>customer_name</th>\n",
       "      <th>accredited</th>\n",
       "      <th>technician</th>\n",
       "    </tr>\n",
       "  </thead>\n",
       "  <tbody>\n",
       "    <tr>\n",
       "      <th>405</th>\n",
       "      <td>Ch-WO-00198</td>\n",
       "      <td>Ch-EQ-00198-2</td>\n",
       "      <td>pressure_gauge</td>\n",
       "      <td>Chicago</td>\n",
       "      <td>Reed-Moody</td>\n",
       "      <td>yes</td>\n",
       "      <td>Amanda Henry</td>\n",
       "    </tr>\n",
       "    <tr>\n",
       "      <th>96</th>\n",
       "      <td>Ch-WO-00046</td>\n",
       "      <td>Ch-EQ-00046-1</td>\n",
       "      <td>caliper</td>\n",
       "      <td>Chicago</td>\n",
       "      <td>Ellis Group</td>\n",
       "      <td>yes</td>\n",
       "      <td>Laura Owens</td>\n",
       "    </tr>\n",
       "    <tr>\n",
       "      <th>853</th>\n",
       "      <td>Lo-WO-00029</td>\n",
       "      <td>Lo-EQ-00029-0</td>\n",
       "      <td>torque</td>\n",
       "      <td>Los_Angeles</td>\n",
       "      <td>Barnett-Mueller</td>\n",
       "      <td>no</td>\n",
       "      <td>Steven Hicks</td>\n",
       "    </tr>\n",
       "    <tr>\n",
       "      <th>789</th>\n",
       "      <td>Ho-WO-00195</td>\n",
       "      <td>Ho-EQ-00195-0</td>\n",
       "      <td>pressure_gauge</td>\n",
       "      <td>Houston</td>\n",
       "      <td>Hamilton Group</td>\n",
       "      <td>no</td>\n",
       "      <td>Katrina Bartlett</td>\n",
       "    </tr>\n",
       "    <tr>\n",
       "      <th>1926</th>\n",
       "      <td>Ph-WO-00169</td>\n",
       "      <td>Ph-EQ-00169-1</td>\n",
       "      <td>caliper</td>\n",
       "      <td>Phoenix</td>\n",
       "      <td>Ruiz-Davis</td>\n",
       "      <td>yes</td>\n",
       "      <td>Lori Mcgee</td>\n",
       "    </tr>\n",
       "  </tbody>\n",
       "</table>\n",
       "</div>"
      ],
      "text/plain": [
       "     workorder_id   equipment_id  equipment_type       branch  \\\n",
       "405   Ch-WO-00198  Ch-EQ-00198-2  pressure_gauge      Chicago   \n",
       "96    Ch-WO-00046  Ch-EQ-00046-1         caliper      Chicago   \n",
       "853   Lo-WO-00029  Lo-EQ-00029-0          torque  Los_Angeles   \n",
       "789   Ho-WO-00195  Ho-EQ-00195-0  pressure_gauge      Houston   \n",
       "1926  Ph-WO-00169  Ph-EQ-00169-1         caliper      Phoenix   \n",
       "\n",
       "        customer_name accredited        technician  \n",
       "405        Reed-Moody        yes      Amanda Henry  \n",
       "96        Ellis Group        yes       Laura Owens  \n",
       "853   Barnett-Mueller         no      Steven Hicks  \n",
       "789    Hamilton Group         no  Katrina Bartlett  \n",
       "1926       Ruiz-Davis        yes        Lori Mcgee  "
      ]
     },
     "metadata": {},
     "output_type": "display_data"
    }
   ],
   "source": [
    "display(df_workorders.sample(5))"
   ]
  },
  {
   "cell_type": "code",
   "execution_count": 11,
   "id": "b46deed8-ec5f-497d-80d3-30cda035a604",
   "metadata": {},
   "outputs": [
    {
     "data": {
      "text/html": [
       "<div>\n",
       "<style scoped>\n",
       "    .dataframe tbody tr th:only-of-type {\n",
       "        vertical-align: middle;\n",
       "    }\n",
       "\n",
       "    .dataframe tbody tr th {\n",
       "        vertical-align: top;\n",
       "    }\n",
       "\n",
       "    .dataframe thead th {\n",
       "        text-align: right;\n",
       "    }\n",
       "</style>\n",
       "<table border=\"1\" class=\"dataframe\">\n",
       "  <thead>\n",
       "    <tr style=\"text-align: right;\">\n",
       "      <th></th>\n",
       "      <th>equipment_id</th>\n",
       "      <th>completed_date</th>\n",
       "      <th>testpoint_count</th>\n",
       "    </tr>\n",
       "  </thead>\n",
       "  <tbody>\n",
       "    <tr>\n",
       "      <th>13</th>\n",
       "      <td>Ch-EQ-00072-0</td>\n",
       "      <td>2024-08-25</td>\n",
       "      <td>8</td>\n",
       "    </tr>\n",
       "    <tr>\n",
       "      <th>1906</th>\n",
       "      <td>Ph-EQ-00182-1</td>\n",
       "      <td>2025-03-23</td>\n",
       "      <td>15</td>\n",
       "    </tr>\n",
       "    <tr>\n",
       "      <th>964</th>\n",
       "      <td>Lo-EQ-00139-0</td>\n",
       "      <td>2024-09-02</td>\n",
       "      <td>10</td>\n",
       "    </tr>\n",
       "    <tr>\n",
       "      <th>482</th>\n",
       "      <td>Ho-EQ-00097-1</td>\n",
       "      <td>2025-02-14</td>\n",
       "      <td>15</td>\n",
       "    </tr>\n",
       "    <tr>\n",
       "      <th>1843</th>\n",
       "      <td>Ph-EQ-00170-0</td>\n",
       "      <td>2025-03-05</td>\n",
       "      <td>10</td>\n",
       "    </tr>\n",
       "  </tbody>\n",
       "</table>\n",
       "</div>"
      ],
      "text/plain": [
       "       equipment_id completed_date  testpoint_count\n",
       "13    Ch-EQ-00072-0     2024-08-25                8\n",
       "1906  Ph-EQ-00182-1     2025-03-23               15\n",
       "964   Lo-EQ-00139-0     2024-09-02               10\n",
       "482   Ho-EQ-00097-1     2025-02-14               15\n",
       "1843  Ph-EQ-00170-0     2025-03-05               10"
      ]
     },
     "metadata": {},
     "output_type": "display_data"
    }
   ],
   "source": [
    "display(df_testpoints.sample(5))"
   ]
  },
  {
   "cell_type": "code",
   "execution_count": 12,
   "id": "74bbcafd-2709-467a-b750-20970376ad53",
   "metadata": {},
   "outputs": [
    {
     "data": {
      "text/html": [
       "<div>\n",
       "<style scoped>\n",
       "    .dataframe tbody tr th:only-of-type {\n",
       "        vertical-align: middle;\n",
       "    }\n",
       "\n",
       "    .dataframe tbody tr th {\n",
       "        vertical-align: top;\n",
       "    }\n",
       "\n",
       "    .dataframe thead th {\n",
       "        text-align: right;\n",
       "    }\n",
       "</style>\n",
       "<table border=\"1\" class=\"dataframe\">\n",
       "  <thead>\n",
       "    <tr style=\"text-align: right;\">\n",
       "      <th></th>\n",
       "      <th>invoice_id</th>\n",
       "      <th>work_completion_date</th>\n",
       "      <th>work_order_number</th>\n",
       "      <th>branch</th>\n",
       "      <th>accreditation_type</th>\n",
       "      <th>equipment_id</th>\n",
       "      <th>equipment_type</th>\n",
       "      <th>price</th>\n",
       "      <th>customer_id</th>\n",
       "      <th>customer_name</th>\n",
       "      <th>customer_email</th>\n",
       "    </tr>\n",
       "  </thead>\n",
       "  <tbody>\n",
       "    <tr>\n",
       "      <th>count</th>\n",
       "      <td>1532.00000</td>\n",
       "      <td>1532</td>\n",
       "      <td>1532</td>\n",
       "      <td>1532</td>\n",
       "      <td>1532</td>\n",
       "      <td>1532</td>\n",
       "      <td>1532</td>\n",
       "      <td>1532.000000</td>\n",
       "      <td>1532</td>\n",
       "      <td>1532</td>\n",
       "      <td>1532</td>\n",
       "    </tr>\n",
       "    <tr>\n",
       "      <th>unique</th>\n",
       "      <td>NaN</td>\n",
       "      <td>359</td>\n",
       "      <td>908</td>\n",
       "      <td>5</td>\n",
       "      <td>2</td>\n",
       "      <td>1532</td>\n",
       "      <td>6</td>\n",
       "      <td>NaN</td>\n",
       "      <td>100</td>\n",
       "      <td>100</td>\n",
       "      <td>100</td>\n",
       "    </tr>\n",
       "    <tr>\n",
       "      <th>top</th>\n",
       "      <td>NaN</td>\n",
       "      <td>2025-02-14</td>\n",
       "      <td>Ne-WO-00015</td>\n",
       "      <td>Chicago</td>\n",
       "      <td>no</td>\n",
       "      <td>Ch-EQ-00001-1</td>\n",
       "      <td>scale</td>\n",
       "      <td>NaN</td>\n",
       "      <td>CUST0087</td>\n",
       "      <td>Ross Inc</td>\n",
       "      <td>nicholas01@robbins.com</td>\n",
       "    </tr>\n",
       "    <tr>\n",
       "      <th>freq</th>\n",
       "      <td>NaN</td>\n",
       "      <td>10</td>\n",
       "      <td>3</td>\n",
       "      <td>326</td>\n",
       "      <td>785</td>\n",
       "      <td>1</td>\n",
       "      <td>287</td>\n",
       "      <td>NaN</td>\n",
       "      <td>41</td>\n",
       "      <td>41</td>\n",
       "      <td>41</td>\n",
       "    </tr>\n",
       "    <tr>\n",
       "      <th>mean</th>\n",
       "      <td>766.50000</td>\n",
       "      <td>NaN</td>\n",
       "      <td>NaN</td>\n",
       "      <td>NaN</td>\n",
       "      <td>NaN</td>\n",
       "      <td>NaN</td>\n",
       "      <td>NaN</td>\n",
       "      <td>201.659530</td>\n",
       "      <td>NaN</td>\n",
       "      <td>NaN</td>\n",
       "      <td>NaN</td>\n",
       "    </tr>\n",
       "    <tr>\n",
       "      <th>std</th>\n",
       "      <td>442.39462</td>\n",
       "      <td>NaN</td>\n",
       "      <td>NaN</td>\n",
       "      <td>NaN</td>\n",
       "      <td>NaN</td>\n",
       "      <td>NaN</td>\n",
       "      <td>NaN</td>\n",
       "      <td>53.318004</td>\n",
       "      <td>NaN</td>\n",
       "      <td>NaN</td>\n",
       "      <td>NaN</td>\n",
       "    </tr>\n",
       "    <tr>\n",
       "      <th>min</th>\n",
       "      <td>1.00000</td>\n",
       "      <td>NaN</td>\n",
       "      <td>NaN</td>\n",
       "      <td>NaN</td>\n",
       "      <td>NaN</td>\n",
       "      <td>NaN</td>\n",
       "      <td>NaN</td>\n",
       "      <td>100.000000</td>\n",
       "      <td>NaN</td>\n",
       "      <td>NaN</td>\n",
       "      <td>NaN</td>\n",
       "    </tr>\n",
       "    <tr>\n",
       "      <th>25%</th>\n",
       "      <td>383.75000</td>\n",
       "      <td>NaN</td>\n",
       "      <td>NaN</td>\n",
       "      <td>NaN</td>\n",
       "      <td>NaN</td>\n",
       "      <td>NaN</td>\n",
       "      <td>NaN</td>\n",
       "      <td>157.300000</td>\n",
       "      <td>NaN</td>\n",
       "      <td>NaN</td>\n",
       "      <td>NaN</td>\n",
       "    </tr>\n",
       "    <tr>\n",
       "      <th>50%</th>\n",
       "      <td>766.50000</td>\n",
       "      <td>NaN</td>\n",
       "      <td>NaN</td>\n",
       "      <td>NaN</td>\n",
       "      <td>NaN</td>\n",
       "      <td>NaN</td>\n",
       "      <td>NaN</td>\n",
       "      <td>201.000000</td>\n",
       "      <td>NaN</td>\n",
       "      <td>NaN</td>\n",
       "      <td>NaN</td>\n",
       "    </tr>\n",
       "    <tr>\n",
       "      <th>75%</th>\n",
       "      <td>1149.25000</td>\n",
       "      <td>NaN</td>\n",
       "      <td>NaN</td>\n",
       "      <td>NaN</td>\n",
       "      <td>NaN</td>\n",
       "      <td>NaN</td>\n",
       "      <td>NaN</td>\n",
       "      <td>245.700000</td>\n",
       "      <td>NaN</td>\n",
       "      <td>NaN</td>\n",
       "      <td>NaN</td>\n",
       "    </tr>\n",
       "    <tr>\n",
       "      <th>max</th>\n",
       "      <td>1532.00000</td>\n",
       "      <td>NaN</td>\n",
       "      <td>NaN</td>\n",
       "      <td>NaN</td>\n",
       "      <td>NaN</td>\n",
       "      <td>NaN</td>\n",
       "      <td>NaN</td>\n",
       "      <td>313.300000</td>\n",
       "      <td>NaN</td>\n",
       "      <td>NaN</td>\n",
       "      <td>NaN</td>\n",
       "    </tr>\n",
       "  </tbody>\n",
       "</table>\n",
       "</div>"
      ],
      "text/plain": [
       "        invoice_id work_completion_date work_order_number   branch  \\\n",
       "count   1532.00000                 1532              1532     1532   \n",
       "unique         NaN                  359               908        5   \n",
       "top            NaN           2025-02-14       Ne-WO-00015  Chicago   \n",
       "freq           NaN                   10                 3      326   \n",
       "mean     766.50000                  NaN               NaN      NaN   \n",
       "std      442.39462                  NaN               NaN      NaN   \n",
       "min        1.00000                  NaN               NaN      NaN   \n",
       "25%      383.75000                  NaN               NaN      NaN   \n",
       "50%      766.50000                  NaN               NaN      NaN   \n",
       "75%     1149.25000                  NaN               NaN      NaN   \n",
       "max     1532.00000                  NaN               NaN      NaN   \n",
       "\n",
       "       accreditation_type   equipment_id equipment_type        price  \\\n",
       "count                1532           1532           1532  1532.000000   \n",
       "unique                  2           1532              6          NaN   \n",
       "top                    no  Ch-EQ-00001-1          scale          NaN   \n",
       "freq                  785              1            287          NaN   \n",
       "mean                  NaN            NaN            NaN   201.659530   \n",
       "std                   NaN            NaN            NaN    53.318004   \n",
       "min                   NaN            NaN            NaN   100.000000   \n",
       "25%                   NaN            NaN            NaN   157.300000   \n",
       "50%                   NaN            NaN            NaN   201.000000   \n",
       "75%                   NaN            NaN            NaN   245.700000   \n",
       "max                   NaN            NaN            NaN   313.300000   \n",
       "\n",
       "       customer_id customer_name          customer_email  \n",
       "count         1532          1532                    1532  \n",
       "unique         100           100                     100  \n",
       "top       CUST0087      Ross Inc  nicholas01@robbins.com  \n",
       "freq            41            41                      41  \n",
       "mean           NaN           NaN                     NaN  \n",
       "std            NaN           NaN                     NaN  \n",
       "min            NaN           NaN                     NaN  \n",
       "25%            NaN           NaN                     NaN  \n",
       "50%            NaN           NaN                     NaN  \n",
       "75%            NaN           NaN                     NaN  \n",
       "max            NaN           NaN                     NaN  "
      ]
     },
     "metadata": {},
     "output_type": "display_data"
    }
   ],
   "source": [
    "display(df_invoices.describe(include=\"all\"))"
   ]
  },
  {
   "cell_type": "markdown",
   "id": "5f94e76d-93a7-4a06-a573-5a7841f7ea6e",
   "metadata": {},
   "source": [
    "## 4. Analyze Failure Reasons"
   ]
  },
  {
   "cell_type": "markdown",
   "id": "27dca60d-ceda-459a-bc27-41c04730577a",
   "metadata": {},
   "source": [
    "Each row in `failed_qc` has a column called `failed_reasons`. We'll split the string if multiple reasons are joined by semicolons, then count how often each reason appears."
   ]
  },
  {
   "cell_type": "code",
   "execution_count": 13,
   "id": "4eb8d493-371c-4124-91af-ca6b0dedac35",
   "metadata": {
    "scrolled": true
   },
   "outputs": [
    {
     "name": "stdout",
     "output_type": "stream",
     "text": [
      "Failure reason counts:\n"
     ]
    },
    {
     "data": {
      "text/plain": [
       "tech_not_certified           337\n",
       "incorrect_testpoint_count    101\n",
       "missing_completed_date        36\n",
       "Name: count, dtype: int64"
      ]
     },
     "metadata": {},
     "output_type": "display_data"
    },
    {
     "data": {
      "image/png": "[encoded data removed]",
      "text/plain": [
       "<Figure size 600x400 with 1 Axes>"
      ]
     },
     "metadata": {},
     "output_type": "display_data"
    }
   ],
   "source": [
    "all_reasons = []\n",
    "\n",
    "for reasons_str in df_failed[\"failed_reasons\"]:\n",
    "    reasons_list = reasons_str.split(\";\")  # assume they're joined by semicolons\n",
    "    all_reasons.extend(reasons_list)\n",
    "\n",
    "reason_counts = pd.Series(all_reasons).value_counts()\n",
    "print(\"Failure reason counts:\")\n",
    "display(reason_counts)\n",
    "\n",
    "# Bar plot\n",
    "plt.figure(figsize=(6,4))\n",
    "reason_counts.plot(kind=\"bar\", color=\"tomato\")\n",
    "plt.title(\"Frequency of Failure Reasons\")\n",
    "plt.xlabel(\"Reason\")\n",
    "plt.ylabel(\"Count\")\n",
    "plt.tight_layout()\n",
    "plt.show()"
   ]
  },
  {
   "cell_type": "markdown",
   "id": "c25c99e4-9581-4109-b3e1-19d32d4ab753",
   "metadata": {
    "jp-MarkdownHeadingCollapsed": true
   },
   "source": [
    "**Observations**\n",
    "1. **Technician Certification** is by far the most common fail reason.  \n",
    "   - Over 300 rejections indicate that either the technician wasn’t properly listed in the training matrix for that equipment type, or there’s a systematic scheduling issue where tasks are assigned to staff without the required accreditation.  \n",
    "   - This suggests a strong need to **review the technician training matrix** and **enforce correct assignments** of tasks to certified personnel.\n",
    "\n",
    "2. **Incorrect Test Points** is the second-highest fail category.  \n",
    "   - Calibration data must include 10 points for standard calibrations and 15 points for accredited ones.  \n",
    "   - Having 101 failures suggests that equipment often doesn't meet the expected test-point count.  \n",
    "   - Potential fixes include:\n",
    "     - Updating the test_points spreadsheet to ensure technicians know the required number of data points.\n",
    "     - Providing immediate feedback if the calibration log has fewer (or more) points than required.\n",
    "\n",
    "3. **Missing Completed Date** is relatively small but still significant (36).  \n",
    "   - This indicates metadata sheets aren't always filled out or the date is left blank.  \n",
    "   - While not as frequent as other issues, a missing date can be critical for compliance, so a simple fix might be to **enforce date entry** at the time of logging or add a “date required” validation in the data‑entry step.\n",
    "\n",
    "**Potential Next Steps**\n",
    "- **Review Technician Assignments**: Ensure that each piece of equipment is only calibrated by someone fully certified for that equipment type; cross-check the training matrix.  \n",
    "- **Add Real-Time Validation**: When calibrations are logged, if the test-point count doesn't match “10 vs. 15,” prompt the user.  \n",
    "- **Metadata Completeness**: Consider a mandatory date field in the Excel or a script that flags empty date cells immediately before storing the data.\n",
    "\n",
    "Together, addressing these root causes will reduce QC rejections, streamline billing, and maintain compliance standards."
   ]
  },
  {
   "cell_type": "markdown",
   "id": "79b9a19c-b6f6-4b88-b150-77c4e94b887c",
   "metadata": {},
   "source": [
    "## 5. Summaries on Invoices"
   ]
  },
  {
   "cell_type": "markdown",
   "id": "15970b8e-8fc0-4eab-8ae5-5a1aedf88d85",
   "metadata": {},
   "source": [
    "We can group `df_invoices` by branch, accredited type, or equipment type to find total prices or counts. Here, let's look at total invoice price per branch."
   ]
  },
  {
   "cell_type": "markdown",
   "id": "45fa601c-5541-4ad3-a9e5-1bab0f37637b",
   "metadata": {},
   "source": [
    "**Observations**\n",
    "\n",
    "1. **Chicago Leads the Invoicing**  \n",
    "   - With over \\$75k in total invoices, Chicago stands out as having the highest revenue from calibration services.  \n",
    "   - Possible factors: a larger customer base, more accredited calibrations (which carry a 30% premium), or simply more pieces of equipment serviced.\n",
    "\n",
    "2. **Phoenix & Los Angeles Follow**  \n",
    "   - Phoenix (\\$68.8k) and Los Angeles (\\$65.2k) are relatively close.  \n",
    "   - Both are substantial markets, possibly indicating a healthy mix of standard vs. accredited services that drive revenue above \\$60k.\n",
    "\n",
    "3. **Houston & New York**  \n",
    "   - Houston and New York sit closer to the \\$50k mark.  \n",
    "   - This might reflect fewer large contracts or perhaps more standard calibrations over accredited ones.  \n",
    "   - Another possibility is that these branches have smaller sales teams or fewer regional customers.\n",
    "\n",
    "**Next Steps / Business Considerations**\n",
    "\n",
    "- **Branch Focus**: If increasing revenue is a goal, investigating why Chicago is so high could yield best practices for other branches (e.g. marketing strategy, training sales reps, bundling calibrations, etc.).\n",
    "- **Accredited vs. Standard**: Check the breakdown of accredited calibrations by branch to see if the branches with higher totals are performing more accredited (premium) jobs.\n",
    "- **Customer Mix & Equipment**: Analyze which types of equipment or which customers drive the biggest share of invoicing in Chicago vs. Houston or NY. This can help tailor local outreach or promotional efforts in underperforming regions."
   ]
  },
  {
   "cell_type": "code",
   "execution_count": 14,
   "id": "4ac1d578-f298-43d6-9b3d-639fe7265721",
   "metadata": {},
   "outputs": [
    {
     "name": "stdout",
     "output_type": "stream",
     "text": [
      "Total price by branch:\n"
     ]
    },
    {
     "data": {
      "text/plain": [
       "branch\n",
       "Chicago        75183.5\n",
       "Houston        49063.8\n",
       "Los_Angeles    65161.8\n",
       "New_York       50761.7\n",
       "Phoenix        68771.6\n",
       "Name: price, dtype: float64"
      ]
     },
     "metadata": {},
     "output_type": "display_data"
    },
    {
     "data": {
      "image/png": "[encoded data removed]",
      "text/plain": [
       "<Figure size 600x400 with 1 Axes>"
      ]
     },
     "metadata": {},
     "output_type": "display_data"
    }
   ],
   "source": [
    "group_by_branch = df_invoices.groupby(\"branch\")[\"price\"].sum()\n",
    "print(\"Total price by branch:\")\n",
    "display(group_by_branch)\n",
    "\n",
    "plt.figure(figsize=(6,4))\n",
    "group_by_branch.plot(kind=\"bar\", color=\"steelblue\")\n",
    "plt.title(\"Total Invoice Price by Branch\")\n",
    "plt.xlabel(\"Branch\")\n",
    "plt.ylabel(\"Total Price\")\n",
    "plt.tight_layout()\n",
    "plt.show()"
   ]
  },
  {
   "cell_type": "markdown",
   "id": "08b56386-5889-4690-8f7d-ff0a2b0ba8e7",
   "metadata": {},
   "source": [
    "## 6. Accredited vs. Non‑Accredited Counts"
   ]
  },
  {
   "cell_type": "markdown",
   "id": "794ee9a5-e53f-46d5-b82a-6ad887bdb1f2",
   "metadata": {},
   "source": [
    "We'll see how many calibrations are accredited vs. not, by branch, using a pivot table for the `df_invoices` data."
   ]
  },
  {
   "cell_type": "code",
   "execution_count": 15,
   "id": "34e49554-b8c6-4180-90a7-447b9d670cb9",
   "metadata": {},
   "outputs": [
    {
     "name": "stdout",
     "output_type": "stream",
     "text": [
      "Pivot table: accredited vs. non-accredited by branch\n"
     ]
    },
    {
     "data": {
      "text/html": [
       "<div>\n",
       "<style scoped>\n",
       "    .dataframe tbody tr th:only-of-type {\n",
       "        vertical-align: middle;\n",
       "    }\n",
       "\n",
       "    .dataframe tbody tr th {\n",
       "        vertical-align: top;\n",
       "    }\n",
       "\n",
       "    .dataframe thead th {\n",
       "        text-align: right;\n",
       "    }\n",
       "</style>\n",
       "<table border=\"1\" class=\"dataframe\">\n",
       "  <thead>\n",
       "    <tr style=\"text-align: right;\">\n",
       "      <th>accreditation_type</th>\n",
       "      <th>no</th>\n",
       "      <th>yes</th>\n",
       "    </tr>\n",
       "    <tr>\n",
       "      <th>branch</th>\n",
       "      <th></th>\n",
       "      <th></th>\n",
       "    </tr>\n",
       "  </thead>\n",
       "  <tbody>\n",
       "    <tr>\n",
       "      <th>Chicago</th>\n",
       "      <td>167</td>\n",
       "      <td>159</td>\n",
       "    </tr>\n",
       "    <tr>\n",
       "      <th>Houston</th>\n",
       "      <td>156</td>\n",
       "      <td>127</td>\n",
       "    </tr>\n",
       "    <tr>\n",
       "      <th>Los_Angeles</th>\n",
       "      <td>148</td>\n",
       "      <td>150</td>\n",
       "    </tr>\n",
       "    <tr>\n",
       "      <th>New_York</th>\n",
       "      <td>154</td>\n",
       "      <td>151</td>\n",
       "    </tr>\n",
       "    <tr>\n",
       "      <th>Phoenix</th>\n",
       "      <td>160</td>\n",
       "      <td>160</td>\n",
       "    </tr>\n",
       "  </tbody>\n",
       "</table>\n",
       "</div>"
      ],
      "text/plain": [
       "accreditation_type   no  yes\n",
       "branch                      \n",
       "Chicago             167  159\n",
       "Houston             156  127\n",
       "Los_Angeles         148  150\n",
       "New_York            154  151\n",
       "Phoenix             160  160"
      ]
     },
     "metadata": {},
     "output_type": "display_data"
    },
    {
     "data": {
      "image/png": "[encoded data removed]",
      "text/plain": [
       "<Figure size 800x400 with 1 Axes>"
      ]
     },
     "metadata": {},
     "output_type": "display_data"
    }
   ],
   "source": [
    "accred_pivot = df_invoices.pivot_table(\n",
    "    index=\"branch\",\n",
    "    columns=\"accreditation_type\",\n",
    "    values=\"work_order_number\",\n",
    "    aggfunc=\"count\",\n",
    "    fill_value=0\n",
    ")\n",
    "\n",
    "print(\"Pivot table: accredited vs. non-accredited by branch\")\n",
    "display(accred_pivot)\n",
    "\n",
    "accred_pivot.plot(kind=\"bar\", stacked=True, figsize=(8,4), color=[\"green\",\"gray\"])\n",
    "plt.title(\"Count of Invoices by Branch & Accreditation\")\n",
    "plt.xlabel(\"Branch\")\n",
    "plt.ylabel(\"Count of Invoices\")\n",
    "plt.tight_layout()\n",
    "plt.show()"
   ]
  },
  {
   "cell_type": "markdown",
   "id": "af92ef2a-5a65-4aca-851b-cf1436da0143",
   "metadata": {},
   "source": [
    "**Observations**\n",
    "\n",
    "1. **Total Invoice Volume**  \n",
    "   - **Chicago** has the largest combined total (326 invoices), followed closely by **Phoenix** (320), then **New York** (305), **Los Angeles** (298), and **Houston** (283).  \n",
    "   - This suggests Chicago processes the most overall calibrations, standard + accredited, but Phoenix isn’t far behind.\n",
    "\n",
    "2. **Accredited vs. Standard Split**  \n",
    "   - Phoenix is perfectly **even** (160 standard, 160 accredited). Los Angeles and New York are similarly balanced (e.g., 148 vs. 150 in LA).  \n",
    "   - Chicago leans slightly more toward standard calibrations (167 vs. 159). Houston shows a bit more skew (156 vs. 127), indicating standard calibrations outnumber accredited by a notable margin.\n",
    "\n",
    "3. **Potential Impact on Revenue**  \n",
    "   - Accredited calibrations typically cost ~30% more than standard. Branches with higher proportions of “yes” calibrations (like Phoenix, Los Angeles, or New York) may see larger invoice totals, all else being equal.  \n",
    "   - Meanwhile, branches like Houston with more standard calibrations might consider pushing for accredited services if customers’ compliance needs allow.\n",
    "\n",
    "**Next Steps / Business Considerations**\n",
    "\n",
    "- **Assess Technician Certification & Marketing**: If a branch wants to increase accredited services, ensure enough technicians are fully certified and actively communicate the benefits to customers.  \n",
    "- **Compare With Invoice Totals**: Correlate these counts with revenue data (e.g., the “Total Invoice Price by Branch” chart) to see if a high count of accredited calibrations significantly boosts overall revenue.  \n",
    "- **Investigate Branch-Level Differences**: The near 50–50 splits in Los Angeles, New York, and Phoenix might reflect local industry or regulatory demands. If Houston or Chicago want to grow their accredited share, reviewing those local markets or outreach strategies could help."
   ]
  },
  {
   "cell_type": "markdown",
   "id": "daac4f3d-8013-4091-9dfb-e27727642f53",
   "metadata": {},
   "source": [
    "## 7. Distribution of Test Points"
   ]
  },
  {
   "cell_type": "markdown",
   "id": "3cf856b1-320d-47e3-b80a-a9edb3cd091d",
   "metadata": {},
   "source": [
    "Look at how many test points are typically used in the `test_points` table. "
   ]
  },
  {
   "cell_type": "code",
   "execution_count": 16,
   "id": "4f8b8737-87f9-4470-8803-8d0b2aef297b",
   "metadata": {},
   "outputs": [
    {
     "data": {
      "image/png": "[encoded data removed]",
      "text/plain": [
       "<Figure size 600x400 with 1 Axes>"
      ]
     },
     "metadata": {},
     "output_type": "display_data"
    }
   ],
   "source": [
    "plt.figure(figsize=(6,4))\n",
    "df_testpoints[\"testpoint_count\"].hist(bins=[0,5,10,15,20], color=\"skyblue\", edgecolor=\"black\")\n",
    "plt.title(\"Distribution of Testpoint Counts\")\n",
    "plt.xlabel(\"Testpoint Count\")\n",
    "plt.ylabel(\"Frequency\")\n",
    "plt.tight_layout()\n",
    "plt.show()"
   ]
  },
  {
   "cell_type": "markdown",
   "id": "9419fe31-bbac-4756-8560-6f1ed9c297c3",
   "metadata": {},
   "source": [
    "## 8. Wrap up & close DB"
   ]
  },
  {
   "cell_type": "code",
   "execution_count": null,
   "id": "e9a8d398-bfe2-475a-9e6d-f3b96a56c5d3",
   "metadata": {},
   "outputs": [],
   "source": [
    "conn.close()"
   ]
  }
 ],
 "metadata": {
  "kernelspec": {
   "display_name": "Python 3 (ipykernel)",
   "language": "python",
   "name": "python3"
  },
  "language_info": {
   "codemirror_mode": {
    "name": "ipython",
    "version": 3
   },
   "file_extension": ".py",
   "mimetype": "text/x-python",
   "name": "python",
   "nbconvert_exporter": "python",
   "pygments_lexer": "ipython3",
   "version": "3.12.3"
  }
 },
 "nbformat": 4,
 "nbformat_minor": 5
}
