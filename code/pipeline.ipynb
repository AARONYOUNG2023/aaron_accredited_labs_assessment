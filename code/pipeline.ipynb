{
 "cells": [
  {
   "metadata": {},
   "cell_type": "markdown",
   "source": "# Pipeline",
   "id": "c1234f31f7e2a20e"
  },
  {
   "metadata": {},
   "cell_type": "markdown",
   "source": [
    "Purpose:\n",
    "  - 1. Connect to a local SQLite database (calibration_data.db).\n",
    "  - 2. Create tables for equipment, test_points, failed_qc, and invoices.\n",
    "  - 3. Insert sample rows.\n",
    "  - 4. Query & display results."
   ],
   "id": "8959d3f6dc20406c"
  },
  {
   "metadata": {},
   "cell_type": "code",
   "outputs": [],
   "execution_count": null,
   "source": [
    "import os\n",
    "import glob\n",
    "import pandas as pd\n",
    "import sqlite3"
   ],
   "id": "f9b73777a72dc13"
  },
  {
   "metadata": {},
   "cell_type": "code",
   "outputs": [],
   "execution_count": null,
   "source": "",
   "id": "3e22d8e2eb52b690"
  },
  {
   "metadata": {},
   "cell_type": "code",
   "outputs": [],
   "execution_count": null,
   "source": [
    "db_path = \"calibration_data.db\"\n",
    "conn = sqlite3.connect(db_path)\n",
    "cur = conn.cursor()"
   ],
   "id": "ce2adea8f1461e1c"
  },
  {
   "metadata": {},
   "cell_type": "code",
   "outputs": [],
   "execution_count": null,
   "source": [
    "# cur.execute(\"DROP TABLE IF EXISTS invoices;\")\n",
    "# cur.execute(\"DROP TABLE IF EXISTS failed_qc;\")\n",
    "# cur.execute(\"DROP TABLE IF EXISTS test_points;\")\n",
    "# cur.execute(\"DROP TABLE IF EXISTS equipment;\")\n",
    "# conn.commit()"
   ],
   "id": "65f55a89e2342a2b"
  },
  {
   "metadata": {},
   "cell_type": "markdown",
   "source": "## 2.Create Tables",
   "id": "79e01170db8de4a5"
  },
  {
   "metadata": {},
   "cell_type": "markdown",
   "source": "### 2.1 equipment: a simple reference table for all known instruments",
   "id": "6eb93faadc800f01"
  },
  {
   "metadata": {},
   "cell_type": "code",
   "outputs": [],
   "execution_count": null,
   "source": [
    "cur.execute(\"\"\"\n",
    "CREATE TABLE workorders (\n",
    "    workorder_id   TEXT,\n",
    "    equipment_id   TEXT,\n",
    "    equipment_type TEXT,\n",
    "    branch         TEXT,\n",
    "    customer_name  TEXT,\n",
    "    accredited     TEXT,\n",
    "    technician     TEXT,\n",
    "    PRIMARY KEY (workorder_id, equipment_id)\n",
    ");\n",
    "\"\"\")"
   ],
   "id": "9539d9413054d01d"
  },
  {
   "metadata": {},
   "cell_type": "markdown",
   "source": "### 2.2 test_points: store measurement details or aggregated data",
   "id": "c87940f94c585e09"
  },
  {
   "metadata": {},
   "cell_type": "code",
   "outputs": [],
   "execution_count": null,
   "source": [
    "cur.execute(\"\"\"\n",
    "CREATE TABLE IF NOT EXISTS test_points (\n",
    "    id             INTEGER PRIMARY KEY AUTOINCREMENT,\n",
    "    equipment_id   TEXT,\n",
    "    test_point_id  TEXT,\n",
    "    reading        REAL,\n",
    "    completed_date TEXT,\n",
    "    FOREIGN KEY (equipment_id) REFERENCES equipment (equipment_id)\n",
    ");\n",
    "\"\"\")"
   ],
   "id": "fc164a07f2a4ff22"
  },
  {
   "metadata": {},
   "cell_type": "markdown",
   "source": "### 2.3 failed_qc:  store the failed qc data",
   "id": "43f803bb442999da"
  },
  {
   "metadata": {},
   "cell_type": "code",
   "outputs": [],
   "execution_count": null,
   "source": [
    "cur.execute(\"\"\"\n",
    "CREATE TABLE IF NOT EXISTS failed_qc (\n",
    "    id             INTEGER PRIMARY KEY AUTOINCREMENT,\n",
    "    equipment_id   TEXT,\n",
    "    test_point_id  TEXT,\n",
    "    reason         TEXT,\n",
    "    timestamp      TEXT,\n",
    "    FOREIGN KEY (equipment_id) REFERENCES equipment (equipment_id)\n",
    ");\n",
    "\"\"\")"
   ],
   "id": "cf8c364fdc861795"
  },
  {
   "metadata": {},
   "cell_type": "markdown",
   "source": "### 2.4 invoices: store the invoices data",
   "id": "abdd97596745bb94"
  },
  {
   "metadata": {},
   "cell_type": "code",
   "outputs": [],
   "execution_count": null,
   "source": [
    "cur.execute(\"\"\"\n",
    "CREATE TABLE IF NOT EXISTS invoices (\n",
    "    invoice_id           INTEGER PRIMARY KEY AUTOINCREMENT,\n",
    "    work_completion_date TEXT,\n",
    "    work_order_number    TEXT,\n",
    "    branch               TEXT,\n",
    "    accreditation_type   TEXT,\n",
    "    equipment_id         TEXT,\n",
    "    equipment_type       TEXT,\n",
    "    price                REAL,\n",
    "    customer_id          TEXT,\n",
    "    customer_name        TEXT,\n",
    "    customer_email       TEXT,\n",
    "    FOREIGN KEY (equipment_id) REFERENCES equipment (equipment_id)\n",
    ");\n",
    "\"\"\")"
   ],
   "id": "b8c6dd07af7f93d"
  },
  {
   "metadata": {},
   "cell_type": "code",
   "outputs": [],
   "execution_count": null,
   "source": [
    "conn.commit()\n",
    "\n",
    "print(\"Tables created or verified successfully.\")"
   ],
   "id": "cdcb6685d380377a"
  },
  {
   "metadata": {},
   "cell_type": "markdown",
   "source": "## 3",
   "id": "22b359dc148f92fc"
  },
  {
   "metadata": {},
   "cell_type": "code",
   "outputs": [],
   "execution_count": null,
   "source": "",
   "id": "61e4a5cef8796e35"
  }
 ],
 "metadata": {
  "kernelspec": {
   "display_name": "Python 3",
   "language": "python",
   "name": "python3"
  },
  "language_info": {
   "codemirror_mode": {
    "name": "ipython",
    "version": 2
   },
   "file_extension": ".py",
   "mimetype": "text/x-python",
   "name": "python",
   "nbconvert_exporter": "python",
   "pygments_lexer": "ipython2",
   "version": "2.7.6"
  }
 },
 "nbformat": 4,
 "nbformat_minor": 5
}
