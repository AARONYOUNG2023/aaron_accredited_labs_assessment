{
 "cells": [
  {
   "cell_type": "markdown",
   "id": "ba1f479fca19a456",
   "metadata": {},
   "source": [
    "# Data Processing\n",
    "This file is to convert all test_points.xlsx to a new csv file and store the all processed data, which are stored in 'processed_data' folder, into one database named as 'calibration_data.db' stored in the 'db' folder."
   ]
  },
  {
   "cell_type": "markdown",
   "id": "cfe1bba4e66dc8c4",
   "metadata": {},
   "source": [
    "## Initial variables and Packages"
   ]
  },
  {
   "cell_type": "markdown",
   "id": "75382f29a6eaaa12",
   "metadata": {},
   "source": [
    "### 1.1 Import package"
   ]
  },
  {
   "cell_type": "code",
   "execution_count": 22,
   "id": "05a09223-2b63-4f51-85b9-2a6927504ccb",
   "metadata": {
    "ExecuteTime": {
     "end_time": "2025-04-22T18:53:06.185643Z",
     "start_time": "2025-04-22T18:53:05.837470Z"
    }
   },
   "outputs": [],
   "source": [
    "import os\n",
    "import glob\n",
    "import pandas as pd\n",
    "import sqlite3"
   ]
  },
  {
   "cell_type": "markdown",
   "id": "0e3a59b9-264e-4319-942a-b25082b7ccb2",
   "metadata": {},
   "source": [
    "Get the current directory name"
   ]
  },
  {
   "cell_type": "code",
   "execution_count": 23,
   "id": "13d362f4-5b57-4e3f-89d3-6e477078a95c",
   "metadata": {},
   "outputs": [
    {
     "name": "stdout",
     "output_type": "stream",
     "text": [
      "/home/ubuntu/PycharmProjects\n"
     ]
    }
   ],
   "source": [
    "current_dir = os.getcwd() \n",
    "print(current_dir)"
   ]
  },
  {
   "cell_type": "code",
   "execution_count": 24,
   "id": "ce28735a-cc33-430e-96ab-c616e196d2c6",
   "metadata": {},
   "outputs": [
    {
     "name": "stdout",
     "output_type": "stream",
     "text": [
      "Now in: /home/ubuntu/PycharmProjects/aaron_accredited_labs_assessment\n"
     ]
    }
   ],
   "source": [
    "target_dir = \"/home/ubuntu/PycharmProjects/aaron_accredited_labs_assessment\"\n",
    "os.chdir(target_dir)\n",
    "print(\"Now in:\", os.getcwd())"
   ]
  },
  {
   "cell_type": "markdown",
   "id": "7fc3067d8646c3ad",
   "metadata": {},
   "source": [
    "### 1.2 City Variables"
   ]
  },
  {
   "cell_type": "code",
   "execution_count": 25,
   "id": "94a24c7076ef5302",
   "metadata": {
    "ExecuteTime": {
     "end_time": "2025-04-22T18:53:22.197109Z",
     "start_time": "2025-04-22T18:53:22.194180Z"
    }
   },
   "outputs": [],
   "source": [
    "cities = [\"Chicago\", \"Houston\", \"Los_Angeles\", \"New_York\", \"Phoenix\"]"
   ]
  },
  {
   "cell_type": "markdown",
   "id": "c798756585c827da",
   "metadata": {},
   "source": [
    "### 1.3 Path Variables"
   ]
  },
  {
   "cell_type": "code",
   "execution_count": 26,
   "id": "27c7170faba616b8",
   "metadata": {},
   "outputs": [],
   "source": [
    "root_data_dir = \"./raw_data\"\n",
    "root_processed_dir = \"./processed_data\"\n",
    "centralized_dir = os.path.join(root_processed_dir, \"centralized\")\n",
    "final_dir = os.path.join(root_processed_dir, \"final\")\n",
    "db_dir = \"../db\"\n",
    "db_path = os.path.join(db_dir, \"calibration_data.db\") \n",
    "\n",
    "os.makedirs(db_dir, exist_ok=True)\n",
    "os.makedirs(final_dir, exist_ok=True)"
   ]
  },
  {
   "cell_type": "markdown",
   "id": "eeef52bf-3e91-4b49-8853-7d837dbe4796",
   "metadata": {},
   "source": [
    "## Processing"
   ]
  },
  {
   "cell_type": "markdown",
   "id": "ab251505-c678-4a8b-9736-a0173f4cc3db",
   "metadata": {},
   "source": [
    "### 2.1 Merging test_points.xlsx into merged_test_points.csv"
   ]
  },
  {
   "cell_type": "code",
   "execution_count": 36,
   "id": "70c2ea61-e704-4685-8e00-cfbd19be67b5",
   "metadata": {},
   "outputs": [
    {
     "name": "stdout",
     "output_type": "stream",
     "text": [
      "Saved ./processed_data/Chicago/test_points/merged_test_points.csv\n",
      "Saved ./processed_data/Phoenix/test_points/merged_test_points.csv\n",
      "Saved ./processed_data/Los_Angeles/test_points/merged_test_points.csv\n",
      "Saved ./processed_data/Houston/test_points/merged_test_points.csv\n",
      "Saved ./processed_data/New_York/test_points/merged_test_points.csv\n"
     ]
    }
   ],
   "source": [
    "for city in cities:\n",
    "    in_dir = os.path.join(root_data_dir, city, \"test_points\")\n",
    "    if not os.path.exists(in_dir):\n",
    "        continue\n",
    "\n",
    "    records = []\n",
    "\n",
    "    for fp in glob.glob(os.path.join(in_dir, \"*_test_points.xlsx\")):\n",
    "        equipment_id = os.path.basename(fp).replace(\"_test_points.xlsx\", \"\")\n",
    "        xls = pd.ExcelFile(fp)\n",
    "\n",
    "        # --- METADATA SHEET (optional) ---\n",
    "        completed_date = None\n",
    "        if \"metadata\" in xls.sheet_names:\n",
    "            meta_df = xls.parse(\"metadata\", header=None)\n",
    "            if not meta_df.empty:\n",
    "                col0_meta = meta_df.iloc[:, 0].dropna().astype(str).str.strip()\n",
    "                completed_matches = col0_meta[col0_meta.str.startswith(\"Completed:\")]\n",
    "                if not completed_matches.empty:\n",
    "                    line = completed_matches.iloc[0]\n",
    "                    completed_date = line.split(\":\", 1)[1].strip()\n",
    "\n",
    "        # --- TEST_POINTS SHEET (horizontal layout) ---\n",
    "        testpoint_count = 0\n",
    "        if \"test_points\" in xls.sheet_names:\n",
    "            tp_df = xls.parse(\"test_points\", header=None)\n",
    "            if not tp_df.empty:\n",
    "                # We assume the first row (row 0) has something like \"TP1\" \"TP2\" ...\n",
    "                header_row = tp_df.iloc[0, :].dropna().astype(str)\n",
    "                # Count how many columns match the pattern \"TP\" + digits\n",
    "                testpoint_count = header_row.str.match(r\"^TP\\d+$\").sum()\n",
    "\n",
    "        records.append([equipment_id, completed_date, testpoint_count])\n",
    "\n",
    "    df = pd.DataFrame(records, columns=[\"equipment_id\", \"completed_date\", \"testpoint_count\"])\n",
    "\n",
    "    # Write the CSV under processed_data/<city>/test_points\n",
    "    out_dir = os.path.join(root_processed_dir, city, \"test_points\")\n",
    "    os.makedirs(out_dir, exist_ok=True)\n",
    "\n",
    "    out_fp = os.path.join(out_dir, \"merged_test_points.csv\")\n",
    "    df.to_csv(out_fp, index=False)\n",
    "    print(f\"Saved {out_fp}\")"
   ]
  },
  {
   "cell_type": "code",
   "execution_count": null,
   "id": "e32eccaa-4fd1-4ac9-a589-55d6f3baac36",
   "metadata": {},
   "outputs": [],
   "source": []
  }
 ],
 "metadata": {
  "kernelspec": {
   "display_name": "Python 3 (ipykernel)",
   "language": "python",
   "name": "python3"
  },
  "language_info": {
   "codemirror_mode": {
    "name": "ipython",
    "version": 3
   },
   "file_extension": ".py",
   "mimetype": "text/x-python",
   "name": "python",
   "nbconvert_exporter": "python",
   "pygments_lexer": "ipython3",
   "version": "3.12.3"
  }
 },
 "nbformat": 4,
 "nbformat_minor": 5
}
