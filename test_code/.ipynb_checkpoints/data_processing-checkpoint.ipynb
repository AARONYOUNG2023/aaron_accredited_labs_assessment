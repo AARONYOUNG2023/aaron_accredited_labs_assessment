{
 "cells": [
  {
   "metadata": {},
   "cell_type": "markdown",
   "source": [
    "# Data Processing\n",
    "This file is to convert all test_points.xlsx to a new csv file and store the all processed data, which are stored in 'processed_data' folder, into one database named as 'calibration_data.db' stored in the 'db' folder."
   ],
   "id": "ba1f479fca19a456"
  },
  {
   "metadata": {},
   "cell_type": "markdown",
   "source": "## Initial variables and Packages",
   "id": "cfe1bba4e66dc8c4"
  },
  {
   "metadata": {},
   "cell_type": "markdown",
   "source": "### 1.1 Import package",
   "id": "75382f29a6eaaa12"
  },
  {
   "cell_type": "code",
   "id": "initial_id",
   "metadata": {
    "collapsed": true,
    "ExecuteTime": {
     "end_time": "2025-04-22T18:53:06.185643Z",
     "start_time": "2025-04-22T18:53:05.837470Z"
    }
   },
   "source": [
    "import os\n",
    "import glob\n",
    "import pandas as pd\n",
    "import sqlite3"
   ],
   "outputs": [],
   "execution_count": 1
  },
  {
   "metadata": {},
   "cell_type": "markdown",
   "source": "### 1.2 City Variables",
   "id": "7fc3067d8646c3ad"
  },
  {
   "metadata": {
    "ExecuteTime": {
     "end_time": "2025-04-22T18:53:22.197109Z",
     "start_time": "2025-04-22T18:53:22.194180Z"
    }
   },
   "cell_type": "code",
   "source": "cities = [\"Chicago\", \"Houston\", \"Los_Angeles\", \"New_York\", \"Phoenix\"]",
   "id": "94a24c7076ef5302",
   "outputs": [],
   "execution_count": 2
  },
  {
   "metadata": {},
   "cell_type": "markdown",
   "source": "### 1.3 Path Variables",
   "id": "c798756585c827da"
  },
  {
   "metadata": {},
   "cell_type": "code",
   "outputs": [],
   "execution_count": null,
   "source": "root_data_dir = \"./data\"",
   "id": "27c7170faba616b8"
  },
  {
   "metadata": {},
   "cell_type": "code",
   "outputs": [],
   "execution_count": null,
   "source": "",
   "id": "924caaaabce86e7f"
  },
  {
   "metadata": {},
   "cell_type": "code",
   "outputs": [],
   "execution_count": null,
   "source": "",
   "id": "f87da4fea475e0d0"
  },
  {
   "metadata": {},
   "cell_type": "code",
   "outputs": [],
   "execution_count": null,
   "source": "",
   "id": "a76f6b53ba382c5d"
  },
  {
   "metadata": {},
   "cell_type": "code",
   "outputs": [],
   "execution_count": null,
   "source": "",
   "id": "6089db381a115bfc"
  },
  {
   "metadata": {},
   "cell_type": "code",
   "outputs": [],
   "execution_count": null,
   "source": "",
   "id": "6971d8f4dc8ce376"
  },
  {
   "metadata": {},
   "cell_type": "code",
   "outputs": [],
   "execution_count": null,
   "source": "",
   "id": "c574153152bc3ce9"
  }
 ],
 "metadata": {
  "kernelspec": {
   "display_name": "Python 3",
   "language": "python",
   "name": "python3"
  },
  "language_info": {
   "codemirror_mode": {
    "name": "ipython",
    "version": 2
   },
   "file_extension": ".py",
   "mimetype": "text/x-python",
   "name": "python",
   "nbconvert_exporter": "python",
   "pygments_lexer": "ipython2",
   "version": "2.7.6"
  }
 },
 "nbformat": 4,
 "nbformat_minor": 5
}
