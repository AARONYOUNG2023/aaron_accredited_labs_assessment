{
 "cells": [
  {
   "cell_type": "markdown",
   "id": "4e9f1200b71efba0",
   "metadata": {},
   "source": [
    "# Invoice & Failed QC Processor"
   ]
  },
  {
   "cell_type": "code",
   "id": "initial_id",
   "metadata": {
    "ExecuteTime": {
     "end_time": "2025-04-23T01:01:15.445547Z",
     "start_time": "2025-04-23T01:01:15.442943Z"
    }
   },
   "source": [
    "import os\n",
    "import pandas as pd\n",
    "import glob"
   ],
   "outputs": [],
   "execution_count": 3
  },
  {
   "cell_type": "markdown",
   "id": "819ac60d19c38824",
   "metadata": {},
   "source": [
    "## 1. Load central references"
   ]
  },
  {
   "cell_type": "code",
   "id": "74550fedd0eb5b4c",
   "metadata": {
    "ExecuteTime": {
     "end_time": "2025-04-23T01:01:17.461069Z",
     "start_time": "2025-04-23T01:01:17.458357Z"
    }
   },
   "source": [
    "os.chdir(\"..\")\n",
    "central_dir = \"./processed_data/centralized\" "
   ],
   "outputs": [],
   "execution_count": 4
  },
  {
   "cell_type": "code",
   "id": "71fccce747b93e18",
   "metadata": {
    "ExecuteTime": {
     "end_time": "2025-04-23T01:01:19.125752Z",
     "start_time": "2025-04-23T01:01:19.117695Z"
    }
   },
   "source": [
    "df_customers = pd.read_csv(os.path.join(central_dir, \"customer_master.csv\"))  \n",
    "print(df_customers.sample(5))"
   ],
   "outputs": [
    {
     "name": "stdout",
     "output_type": "stream",
     "text": [
      "   customer_id                customer_name            location  \\\n",
      "67    CUST0067         Wade, Cruz and White        Michaelhaven   \n",
      "76    CUST0076            Santiago and Sons         East Alicia   \n",
      "56    CUST0056                    Baker PLC        West Kenneth   \n",
      "45    CUST0045                Holland-Walsh  Port Franciscobury   \n",
      "40    CUST0040  Humphrey, Mullins and Moore           Jasonstad   \n",
      "\n",
      "                     email  \n",
      "67  nathaniel92@miller.com  \n",
      "76      egriffith@king.net  \n",
      "56  christopher79@lowe.com  \n",
      "45      april53@conway.biz  \n",
      "40       jake00@harris.biz  \n"
     ]
    }
   ],
   "execution_count": 5
  },
  {
   "cell_type": "code",
   "id": "6fad0eb846f53ad7",
   "metadata": {
    "ExecuteTime": {
     "end_time": "2025-04-23T01:01:21.661646Z",
     "start_time": "2025-04-23T01:01:21.655483Z"
    }
   },
   "source": [
    "df_pricing = pd.read_csv(os.path.join(central_dir, \"equipment_pricing.csv\"))  \n",
    "print(df_pricing.sample(5))"
   ],
   "outputs": [
    {
     "name": "stdout",
     "output_type": "stream",
     "text": [
      "         branch equipment_type  standard_price  accredited_price\n",
      "23      Chicago     flow_meter             200             260.0\n",
      "29      Phoenix     flow_meter             189             245.7\n",
      "7   Los_Angeles         torque             231             300.3\n",
      "25      Phoenix         torque             204             265.2\n",
      "1      New_York         torque             195             253.5\n"
     ]
    }
   ],
   "execution_count": 6
  },
  {
   "cell_type": "code",
   "id": "6fb9e894f9ab35c9",
   "metadata": {
    "ExecuteTime": {
     "end_time": "2025-04-23T01:01:23.647832Z",
     "start_time": "2025-04-23T01:01:23.551037Z"
    }
   },
   "source": [
    "df_tech = pd.read_excel(os.path.join(central_dir, \"technician_training_matrix.xlsx\"))  \n",
    "print(df_tech.sample(5))"
   ],
   "outputs": [
    {
     "name": "stdout",
     "output_type": "stream",
     "text": [
      "         technician  equipment_type\n",
      "5      Austin Mejia         caliper\n",
      "67       Lori Mcgee  pressure_gauge\n",
      "1      Austin Huynh      flow_meter\n",
      "71  Carol Rasmussen      flow_meter\n",
      "9      Austin Mejia           scale\n"
     ]
    }
   ],
   "execution_count": 7
  },
  {
   "cell_type": "markdown",
   "id": "8fcd4298-5a48-4e81-8a99-4cb2f982c2fa",
   "metadata": {},
   "source": [
    "Create a set of (technician, equipment_type) pairs for easy checking"
   ]
  },
  {
   "cell_type": "code",
   "id": "1a264a696cdc1b3b",
   "metadata": {
    "ExecuteTime": {
     "end_time": "2025-04-23T01:01:27.419578Z",
     "start_time": "2025-04-23T01:01:27.416527Z"
    }
   },
   "source": [
    "certified_pairs = set(zip(df_tech[\"technician\"], df_tech[\"equipment_type\"]))"
   ],
   "outputs": [],
   "execution_count": 8
  },
  {
   "cell_type": "markdown",
   "id": "2fed78f3-bf66-4bf2-b909-349895eebd2b",
   "metadata": {},
   "source": [
    "## 2. Prepare output container"
   ]
  },
  {
   "cell_type": "code",
   "id": "29f82d5c7f588791",
   "metadata": {
    "ExecuteTime": {
     "end_time": "2025-04-23T01:01:29.611074Z",
     "start_time": "2025-04-23T01:01:29.608592Z"
    }
   },
   "source": [
    "invoice_rows = []\n",
    "failed_rows = []"
   ],
   "outputs": [],
   "execution_count": 9
  },
  {
   "cell_type": "markdown",
   "id": "977aaa45-eba3-4a3f-b977-442a74d5997d",
   "metadata": {},
   "source": []
  },
  {
   "cell_type": "code",
   "id": "ba23bac0-9ac2-4676-a6b6-b5ff47256f48",
   "metadata": {
    "ExecuteTime": {
     "end_time": "2025-04-23T01:01:31.828892Z",
     "start_time": "2025-04-23T01:01:31.826410Z"
    }
   },
   "source": [
    "cities = [\"Chicago\", \"Houston\", \"Los_Angeles\", \"New_York\", \"Phoenix\"]"
   ],
   "outputs": [],
   "execution_count": 10
  },
  {
   "cell_type": "code",
   "execution_count": null,
   "id": "0192dca2-65c9-45ef-9851-4a38778324a0",
   "metadata": {},
   "outputs": [],
   "source": []
  },
  {
   "cell_type": "code",
   "id": "1579926a-fd5e-4809-99f9-1a1f21dea5cb",
   "metadata": {
    "ExecuteTime": {
     "end_time": "2025-04-23T01:01:35.034728Z",
     "start_time": "2025-04-23T01:01:34.132044Z"
    }
   },
   "source": [
    "for city in cities:\n",
    "    city_dir = os.path.join(\"./processed_data\", city)\n",
    "    \n",
    "    # paths\n",
    "    workorders_path = os.path.join(city_dir, \"workorders\", \"workorders.csv\")\n",
    "    testpoints_path = os.path.join(city_dir, \"test_points\", \"merged_test_points.csv\")\n",
    "    \n",
    "    # skip if missing\n",
    "    if not (os.path.exists(workorders_path) and os.path.exists(testpoints_path)):\n",
    "        print(f\"Skipping {city} - missing files.\")\n",
    "        continue\n",
    "    \n",
    "    df_work = pd.read_csv(workorders_path)   # columns: [workorder_id, equipment_id, equipment_type, branch, customer_name, accredited, technician]\n",
    "    df_test = pd.read_csv(testpoints_path)   # columns: [equipment_id, completed_date, testpoint_count]\n",
    "    \n",
    "    # Merge so each row from workorders has completed_date + testpoint_count\n",
    "    merged = pd.merge(df_work, df_test, on=\"equipment_id\", how=\"left\")\n",
    "\n",
    "    for idx, row in merged.iterrows():\n",
    "        fail_reasons = []\n",
    "        \n",
    "        workorder_id = row[\"workorder_id\"]\n",
    "        equipment_id = row[\"equipment_id\"]\n",
    "        equipment_type = row[\"equipment_type\"]\n",
    "        branch = row[\"branch\"]\n",
    "        customer_name = row[\"customer_name\"]\n",
    "        accredited_flag = str(row[\"accredited\"]).lower()  # \"yes\" or \"no\" or something else\n",
    "        technician = row[\"technician\"]\n",
    "        \n",
    "        completed_date = row[\"completed_date\"]\n",
    "        testpoint_count = row[\"testpoint_count\"]\n",
    "        \n",
    "        # -- (1) Check customer matches\n",
    "        # For simplicity, use exact match on \"customer_name\"\n",
    "        if not (df_customers[\"customer_name\"] == customer_name).any():\n",
    "            fail_reasons.append(\"customer_not_found\")\n",
    "        \n",
    "        # -- (2) Technician certification\n",
    "        # must appear in (technician, equipment_type) pairs\n",
    "        if (technician, equipment_type) not in certified_pairs:\n",
    "            fail_reasons.append(\"tech_not_certified\")\n",
    "        \n",
    "        # -- (3) Completed date present\n",
    "        if pd.isna(completed_date) or str(completed_date).strip() == \"\":\n",
    "            fail_reasons.append(\"missing_completed_date\")\n",
    "        \n",
    "        # -- (4) Pricing found\n",
    "        # We need to find a row in df_pricing with same branch & equip_type\n",
    "        price_subset = df_pricing[\n",
    "            (df_pricing[\"branch\"] == branch) &\n",
    "            (df_pricing[\"equipment_type\"] == equipment_type)\n",
    "        ]\n",
    "        price = None\n",
    "        if len(price_subset) == 0:\n",
    "            fail_reasons.append(\"pricing_not_found\")\n",
    "        else:\n",
    "            # If we found exactly 1 row, pick the right column\n",
    "            # If multiple rows or 1 row is found, we'll handle that carefully\n",
    "            pr = price_subset.iloc[0]\n",
    "            if accredited_flag == \"yes\":\n",
    "                price = pr[\"accredited_price\"]\n",
    "            else:\n",
    "                price = pr[\"standard_price\"]\n",
    "        \n",
    "        # -- (5) Testpoint count requirement\n",
    "        # Suppose \"yes\" => needs 15 points, \"no\" => needs 10\n",
    "        # Adjust if your rules differ\n",
    "        if accredited_flag == \"yes\":\n",
    "            required_points = 15\n",
    "        else:\n",
    "            required_points = 10\n",
    "        \n",
    "        # if testpoint_count is not numeric or < required_points => fail\n",
    "        if pd.isna(testpoint_count) or (testpoint_count < required_points):\n",
    "            fail_reasons.append(\"insufficient_test_points\")\n",
    "        \n",
    "        # If we have any failure, push to failed\n",
    "        if fail_reasons:\n",
    "            failed_rows.append({\n",
    "                \"workorder_id\": workorder_id,\n",
    "                \"equipment_id\": equipment_id,\n",
    "                \"equipment_type\": equipment_type,\n",
    "                \"branch\": branch,\n",
    "                \"customer_name\": customer_name,\n",
    "                \"accredited\": accredited_flag,\n",
    "                \"technician\": technician,\n",
    "                \"failed_reasons\": \";\".join(fail_reasons)\n",
    "            })\n",
    "        else:\n",
    "            # Otherwise, pass QC\n",
    "            invoice_rows.append({\n",
    "                \"workorder_id\": workorder_id,\n",
    "                \"equipment_id\": equipment_id,\n",
    "                \"equipment_type\": equipment_type,\n",
    "                \"branch\": branch,\n",
    "                \"customer_name\": customer_name,\n",
    "                \"accredited\": accredited_flag,\n",
    "                \"technician\": technician,\n",
    "                \"completed_date\": completed_date,\n",
    "                \"testpoint_count\": testpoint_count,\n",
    "                \"price\": price\n",
    "            })\n",
    "\n"
   ],
   "outputs": [],
   "execution_count": 11
  },
  {
   "cell_type": "code",
   "execution_count": null,
   "id": "d4a4ab65-b4fc-4a64-9c1d-43ba47583d2b",
   "metadata": {},
   "outputs": [],
   "source": []
  },
  {
   "cell_type": "code",
   "id": "ccee6b42-7194-43ff-ba18-23e2caaf7083",
   "metadata": {
    "ExecuteTime": {
     "end_time": "2025-04-23T01:01:38.690340Z",
     "start_time": "2025-04-23T01:01:38.682439Z"
    }
   },
   "source": [
    "# 5. After loop, build final DataFrames\n",
    "df_invoices = pd.DataFrame(invoice_rows)\n",
    "df_failed = pd.DataFrame(failed_rows)"
   ],
   "outputs": [],
   "execution_count": 12
  },
  {
   "cell_type": "code",
   "id": "86ab86bf-094a-45e5-b73b-c6fb6416f2fe",
   "metadata": {
    "ExecuteTime": {
     "end_time": "2025-04-23T01:01:40.856801Z",
     "start_time": "2025-04-23T01:01:40.850722Z"
    }
   },
   "source": [
    "print(df_invoices)"
   ],
   "outputs": [
    {
     "name": "stdout",
     "output_type": "stream",
     "text": [
      "     workorder_id   equipment_id  equipment_type   branch  \\\n",
      "0     Ch-WO-00001  Ch-EQ-00001-1          torque  Chicago   \n",
      "1     Ch-WO-00001  Ch-EQ-00001-2          torque  Chicago   \n",
      "2     Ch-WO-00002  Ch-EQ-00002-1          torque  Chicago   \n",
      "3     Ch-WO-00002  Ch-EQ-00002-2      flow_meter  Chicago   \n",
      "4     Ch-WO-00003  Ch-EQ-00003-0          torque  Chicago   \n",
      "...           ...            ...             ...      ...   \n",
      "1527  Ph-WO-00196  Ph-EQ-00196-1           scale  Phoenix   \n",
      "1528  Ph-WO-00197  Ph-EQ-00197-0  pressure_gauge  Phoenix   \n",
      "1529  Ph-WO-00198  Ph-EQ-00198-0  pressure_gauge  Phoenix   \n",
      "1530  Ph-WO-00199  Ph-EQ-00199-0           scale  Phoenix   \n",
      "1531  Ph-WO-00199  Ph-EQ-00199-1          torque  Phoenix   \n",
      "\n",
      "                     customer_name accredited        technician  \\\n",
      "0                Rodriguez-Summers         no      Amanda Henry   \n",
      "1                Rodriguez-Summers         no       Laura Owens   \n",
      "2                   Kelley-Ramirez        yes       Laura Owens   \n",
      "3                   Kelley-Ramirez        yes      Traci Larson   \n",
      "4             Wade, Cruz and White         no      Traci Larson   \n",
      "...                            ...        ...               ...   \n",
      "1527              Hammond-Guerrero        yes  Stephanie Cooper   \n",
      "1528               Riddle-Faulkner        yes  Stephanie Cooper   \n",
      "1529  Copeland, Torres and Morales         no   Carol Rasmussen   \n",
      "1530                   Neal-Kelley         no  Stephanie Cooper   \n",
      "1531                   Neal-Kelley         no  Stephanie Cooper   \n",
      "\n",
      "     completed_date  testpoint_count  price  \n",
      "0        2024-09-25               10  173.0  \n",
      "1        2024-06-18               10  173.0  \n",
      "2        2025-01-06               15  224.9  \n",
      "3        2024-11-05               15  260.0  \n",
      "4        2024-05-21               10  173.0  \n",
      "...             ...              ...    ...  \n",
      "1527     2024-04-28               15  188.5  \n",
      "1528     2024-10-06               15  256.1  \n",
      "1529     2024-07-22               10  197.0  \n",
      "1530     2024-06-22               10  145.0  \n",
      "1531     2024-11-16               10  204.0  \n",
      "\n",
      "[1532 rows x 10 columns]\n"
     ]
    }
   ],
   "execution_count": 13
  },
  {
   "cell_type": "code",
   "id": "3e1bce01-d67f-4dea-8163-ac66e3ce310c",
   "metadata": {
    "ExecuteTime": {
     "end_time": "2025-04-23T01:01:43.536459Z",
     "start_time": "2025-04-23T01:01:43.530968Z"
    }
   },
   "source": [
    "print(df_failed)"
   ],
   "outputs": [
    {
     "name": "stdout",
     "output_type": "stream",
     "text": [
      "    workorder_id   equipment_id  equipment_type   branch  \\\n",
      "0    Ch-WO-00000  Ch-EQ-00000-0         caliper  Chicago   \n",
      "1    Ch-WO-00001  Ch-EQ-00001-0         caliper  Chicago   \n",
      "2    Ch-WO-00002  Ch-EQ-00002-0  pressure_gauge  Chicago   \n",
      "3    Ch-WO-00003  Ch-EQ-00003-1  pressure_gauge  Chicago   \n",
      "4    Ch-WO-00003  Ch-EQ-00003-2  pressure_gauge  Chicago   \n",
      "..           ...            ...             ...      ...   \n",
      "447  Ph-WO-00183  Ph-EQ-00183-1           scale  Phoenix   \n",
      "448  Ph-WO-00186  Ph-EQ-00186-1     thermometer  Phoenix   \n",
      "449  Ph-WO-00186  Ph-EQ-00186-2      flow_meter  Phoenix   \n",
      "450  Ph-WO-00193  Ph-EQ-00193-0     thermometer  Phoenix   \n",
      "451  Ph-WO-00196  Ph-EQ-00196-0      flow_meter  Phoenix   \n",
      "\n",
      "            customer_name accredited        technician  \\\n",
      "0          Walker-Morales         no      Amanda Henry   \n",
      "1       Rodriguez-Summers         no      Amanda Henry   \n",
      "2          Kelley-Ramirez        yes      Traci Larson   \n",
      "3    Wade, Cruz and White        yes       Laura Owens   \n",
      "4    Wade, Cruz and White        yes       Laura Owens   \n",
      "..                    ...        ...               ...   \n",
      "447          Kelley-Young         no   Carol Rasmussen   \n",
      "448        Mccann-Hoffman         no        Lori Mcgee   \n",
      "449        Mccann-Hoffman        yes  Stephanie Cooper   \n",
      "450             Wells Inc        yes        Lori Mcgee   \n",
      "451      Hammond-Guerrero         no  Stephanie Cooper   \n",
      "\n",
      "               failed_reasons  \n",
      "0          tech_not_certified  \n",
      "1          tech_not_certified  \n",
      "2          tech_not_certified  \n",
      "3          tech_not_certified  \n",
      "4          tech_not_certified  \n",
      "..                        ...  \n",
      "447  insufficient_test_points  \n",
      "448        tech_not_certified  \n",
      "449        tech_not_certified  \n",
      "450        tech_not_certified  \n",
      "451        tech_not_certified  \n",
      "\n",
      "[452 rows x 8 columns]\n"
     ]
    }
   ],
   "execution_count": 14
  },
  {
   "cell_type": "code",
   "execution_count": 16,
   "id": "1b590fe8-4b30-4e2d-9a1e-85e8fd5d2779",
   "metadata": {},
   "outputs": [
    {
     "name": "stdout",
     "output_type": "stream",
     "text": [
      "Done! Created invoices.csv and failed_qc.csv with the new 5-step QC.\n"
     ]
    }
   ],
   "source": [
    "final_dir = \"./final\"\n",
    "os.makedirs(final_dir, exist_ok=True)\n",
    "df_invoices.to_csv(os.path.join(final_dir, \"invoices.csv\"), index=False)\n",
    "df_failed.to_csv(os.path.join(final_dir, \"failed_qc.csv\"), index=False)\n",
    "\n",
    "print(\"Done! Created invoices.csv and failed_qc.csv with the new 5-step QC.\")"
   ]
  }
 ],
 "metadata": {
  "kernelspec": {
   "display_name": "Python 3 (ipykernel)",
   "language": "python",
   "name": "python3"
  },
  "language_info": {
   "codemirror_mode": {
    "name": "ipython",
    "version": 3
   },
   "file_extension": ".py",
   "mimetype": "text/x-python",
   "name": "python",
   "nbconvert_exporter": "python",
   "pygments_lexer": "ipython3",
   "version": "3.12.3"
  }
 },
 "nbformat": 4,
 "nbformat_minor": 5
}
